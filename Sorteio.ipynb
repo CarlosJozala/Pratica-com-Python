{
  "nbformat": 4,
  "nbformat_minor": 0,
  "metadata": {
    "colab": {
      "name": "Sorteio.ipynb",
      "provenance": [],
      "collapsed_sections": [],
      "authorship_tag": "ABX9TyNjJUxAbXFYD0AC3w8iwhc0",
      "include_colab_link": true
    },
    "kernelspec": {
      "name": "python3",
      "display_name": "Python 3"
    },
    "language_info": {
      "name": "python"
    }
  },
  "cells": [
    {
      "cell_type": "markdown",
      "metadata": {
        "id": "view-in-github",
        "colab_type": "text"
      },
      "source": [
        "<a href=\"https://colab.research.google.com/github/CarlosJozala/Pratica_com_Python/blob/main/Sorteio.ipynb\" target=\"_parent\"><img src=\"https://colab.research.google.com/assets/colab-badge.svg\" alt=\"Open In Colab\"/></a>"
      ]
    },
    {
      "cell_type": "code",
      "execution_count": 3,
      "metadata": {
        "colab": {
          "base_uri": "https://localhost:8080/"
        },
        "id": "fE66k7yUtFNa",
        "outputId": "065028ff-fa1e-4632-e6f6-ec9c6b1586d8"
      },
      "outputs": [
        {
          "output_type": "stream",
          "name": "stdout",
          "text": [
            "Primeiro aluno: Pedro\n",
            "Segundo aluno: João\n",
            "Terceiro Aluno: Lucas\n",
            "Quarto aluno: Maria\n",
            "Quinto aluno: Barbara\n",
            "O aluno escolhido foi Maria\n"
          ]
        }
      ],
      "source": [
        "#Sorteio de Aluno\n",
        "\n",
        "from random import choice \n",
        "n1 = str(input('Primeiro aluno: '))\n",
        "n2 = str(input('Segundo aluno: '))\n",
        "n3 = str(input('Terceiro Aluno: '))\n",
        "n4 = str(input('Quarto aluno: '))\n",
        "n5 = str(input('Quinto aluno: '))\n",
        "lista = [n1, n2, n3, n4, n5]\n",
        "escolhido = choice(lista)\n",
        "print('O aluno escolhido foi {}'.format(escolhido))"
      ]
    }
  ]
}