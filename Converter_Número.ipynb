{
  "nbformat": 4,
  "nbformat_minor": 0,
  "metadata": {
    "colab": {
      "name": "Converter Número.ipynb",
      "provenance": [],
      "collapsed_sections": [],
      "authorship_tag": "ABX9TyMS5ZfnEQrenVH4Vdp584dj",
      "include_colab_link": true
    },
    "kernelspec": {
      "name": "python3",
      "display_name": "Python 3"
    },
    "language_info": {
      "name": "python"
    }
  },
  "cells": [
    {
      "cell_type": "markdown",
      "metadata": {
        "id": "view-in-github",
        "colab_type": "text"
      },
      "source": [
        "<a href=\"https://colab.research.google.com/github/CarlosJozala/Pratica_com_Python/blob/main/Converter_N%C3%BAmero.ipynb\" target=\"_parent\"><img src=\"https://colab.research.google.com/assets/colab-badge.svg\" alt=\"Open In Colab\"/></a>"
      ]
    },
    {
      "cell_type": "code",
      "execution_count": 1,
      "metadata": {
        "colab": {
          "base_uri": "https://localhost:8080/"
        },
        "id": "4KHcjCtGvKsR",
        "outputId": "f37c3176-3829-4c92-cc5a-83ce794ad49b"
      },
      "outputs": [
        {
          "output_type": "stream",
          "name": "stdout",
          "text": [
            "Digite um número inteiro: 2\n",
            "Escolha uma das bases de conversão:\n",
            "      [1] converter para Binário \n",
            "      [2] converter para Octal\n",
            "      [3] converter para hexadecimal\n",
            "Sua opção: 1\n",
            "2 convertido para Binário é igual a 10\n"
          ]
        }
      ],
      "source": [
        "num = int(input('Digite um número inteiro: '))\n",
        "print('''Escolha uma das bases de conversão:\n",
        "      [1] converter para Binário \n",
        "      [2] converter para Octal\n",
        "      [3] converter para hexadecimal''')\n",
        "opção = int(input('Sua opção: '))\n",
        "if opção == 1:\n",
        "    print('{} convertido para Binário é igual a {}'.format(num, bin(num)[2:])) \n",
        "elif opção == 2:\n",
        "    print('{} convertido para Octal é igual a {}'.format(num, oct(num)[2:]))\n",
        "elif opção == 3:\n",
        "    print('{} convertido para hexaddecimal é igual a {}'.format(num, hex(num)[2:]))\n",
        "else:\n",
        "    print('Opção inválida. Tente novamente')"
      ]
    }
  ]
}