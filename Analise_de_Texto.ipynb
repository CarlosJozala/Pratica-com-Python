{
  "nbformat": 4,
  "nbformat_minor": 0,
  "metadata": {
    "colab": {
      "name": "Analise de Texto.ipynb",
      "provenance": [],
      "collapsed_sections": [],
      "authorship_tag": "ABX9TyMikNdQo9ASDAmocqhFYBxV",
      "include_colab_link": true
    },
    "kernelspec": {
      "name": "python3",
      "display_name": "Python 3"
    },
    "language_info": {
      "name": "python"
    }
  },
  "cells": [
    {
      "cell_type": "markdown",
      "metadata": {
        "id": "view-in-github",
        "colab_type": "text"
      },
      "source": [
        "<a href=\"https://colab.research.google.com/github/CarlosJozala/Pratica_com_Python/blob/main/Analise_de_Texto.ipynb\" target=\"_parent\"><img src=\"https://colab.research.google.com/assets/colab-badge.svg\" alt=\"Open In Colab\"/></a>"
      ]
    },
    {
      "cell_type": "code",
      "execution_count": 1,
      "metadata": {
        "colab": {
          "base_uri": "https://localhost:8080/"
        },
        "id": "VYQnb9lZuUFS",
        "outputId": "ef410c35-9bbb-4fd4-ce8b-11f6e04cda75"
      },
      "outputs": [
        {
          "output_type": "stream",
          "name": "stdout",
          "text": [
            "Digite seu nome completo: Carlos Eduardo\n",
            "Analisando seu nome...\n",
            "Seu nome em maiuscula é CARLOS EDUARDO\n",
            "Seu nome em minuscula é carlos eduardo\n",
            "Seu nome tem ao todo 13 letras\n",
            "Seu primeiro nome tem 6 letras\n"
          ]
        }
      ],
      "source": [
        "nome = str(input('Digite seu nome completo: ')).strip()\n",
        "print('Analisando seu nome...')\n",
        "print('Seu nome em maiuscula é {}'.format(nome.upper()))\n",
        "print('Seu nome em minuscula é {}'.format(nome.lower()))\n",
        "print('Seu nome tem ao todo {} letras'.format(len(nome)- nome.count(' ')))\n",
        "print('Seu primeiro nome tem {} letras'.format(nome.find(' ')))"
      ]
    }
  ]
}