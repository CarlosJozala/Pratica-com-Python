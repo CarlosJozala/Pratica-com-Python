{
  "nbformat": 4,
  "nbformat_minor": 0,
  "metadata": {
    "colab": {
      "name": "Classificação de Atleta.ipynb",
      "provenance": [],
      "collapsed_sections": [],
      "authorship_tag": "ABX9TyMv1GNrEFGdS/wK+FWi47QU",
      "include_colab_link": true
    },
    "kernelspec": {
      "name": "python3",
      "display_name": "Python 3"
    },
    "language_info": {
      "name": "python"
    }
  },
  "cells": [
    {
      "cell_type": "markdown",
      "metadata": {
        "id": "view-in-github",
        "colab_type": "text"
      },
      "source": [
        "<a href=\"https://colab.research.google.com/github/CarlosJozala/Pratica_com_Python/blob/main/Classifica%C3%A7%C3%A3o_de_Atleta.ipynb\" target=\"_parent\"><img src=\"https://colab.research.google.com/assets/colab-badge.svg\" alt=\"Open In Colab\"/></a>"
      ]
    },
    {
      "cell_type": "code",
      "execution_count": 2,
      "metadata": {
        "colab": {
          "base_uri": "https://localhost:8080/"
        },
        "id": "ZGzVpNv6urNm",
        "outputId": "a44976fc-0a1a-4923-9bfb-1d06215c0b13"
      },
      "outputs": [
        {
          "output_type": "stream",
          "name": "stdout",
          "text": [
            "Ano de nascimento: 2001\n",
            "O atleta tem 21 anos\n",
            "Classificação: Master\n"
          ]
        }
      ],
      "source": [
        "from datetime import date\n",
        "atual = date.today().year\n",
        "nascimento = int(input('Ano de nascimento: '))\n",
        "idade = atual - nascimento\n",
        "print('O atleta tem {} anos'.format(idade))\n",
        "if idade <= 9:\n",
        "    print('Classificação: Mirim')\n",
        "elif idade <= 14:\n",
        "    print('Classifição: Infantil')\n",
        "elif idade <= 19:\n",
        "    print('Classificação: Junior')\n",
        "else:\n",
        "    print('Classificação: Master')"
      ]
    }
  ]
}